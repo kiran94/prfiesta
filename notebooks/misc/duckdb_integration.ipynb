{
 "cells": [
  {
   "cell_type": "markdown",
   "id": "af679950-c071-495d-a4df-9cb0e7c43220",
   "metadata": {},
   "source": [
    "# DuckDB Integration\n",
    "\n",
    "In the below example we are running `prfiesta` and specifing the output type `duckdb`. As we've provided the output `mydatabase.duckdb`, the results will be exported to that database."
   ]
  },
  {
   "cell_type": "code",
   "execution_count": 11,
   "id": "19d00fb9-e93f-4a9c-abb6-47611b363f9d",
   "metadata": {},
   "outputs": [
    {
     "name": "stdout",
     "output_type": "stream",
     "text": [
      "\u001b[34mINFO    \u001b[0m \u001b[1;32mPR Fiesta 🦜🥳\u001b[0m                                                         \n",
      "\u001b[2K\u001b[34m⠋\u001b[0m Searching https://api.github.com with\u001b[1;34m type:pr author:kiran94 \u001b[0m\n",
      "\u001b[2K\u001b[1A\u001b[2K\u001b[34m⠙\u001b[0m Searching https://api.github.com with\u001b[1;34m type:pr author:kiran94 \u001b[0m\n",
      "\u001b[2K\u001b[1A\u001b[2K\u001b[34m⠙\u001b[0m Searching https://api.github.com with\u001b[1;34m type:pr author:kiran94 \u001b[0m\n",
      "\u001b[2K\u001b[1A\u001b[2K\u001b[34m⠹\u001b[0m Searching https://api.github.com with\u001b[1;34m type:pr author:kiran94 \u001b[0m\n",
      "\u001b[2K\u001b[1A\u001b[2K\u001b[34m⠸\u001b[0m Searching https://api.github.com with\u001b[1;34m type:pr author:kiran94 \u001b[0m\n",
      "\u001b[2K\u001b[1A\u001b[2K\u001b[34m⠸\u001b[0m Searching https://api.github.com with\u001b[1;34m type:pr author:kiran94 \u001b[0m\n",
      "\u001b[2K\u001b[1A\u001b[2K\u001b[34m⠼\u001b[0m Searching https://api.github.com with\u001b[1;34m type:pr author:kiran94 \u001b[0m\n",
      "\u001b[2K\u001b[1A\u001b[2K\u001b[34m⠴\u001b[0m Searching https://api.github.com with\u001b[1;34m type:pr author:kiran94 \u001b[0m\n",
      "\u001b[2K\u001b[1A\u001b[2K\u001b[34m⠴\u001b[0m Searching https://api.github.com with\u001b[1;34m type:pr author:kiran94 \u001b[0m\n",
      "\u001b[2K\u001b[1A\u001b[2K\u001b[34m⠦\u001b[0m Searching https://api.github.com with\u001b[1;34m type:pr author:kiran94 \u001b[0m\n",
      "\u001b[2K\u001b[1A\u001b[2K\u001b[34mINFO    \u001b[0m Found \u001b[1;36m7\u001b[0m pull requests!                                                 \n",
      "\u001b[2K\u001b[34mINFO    \u001b[0m Exported to mydatabase.duckdb!                                         \n",
      "\u001b[2K\u001b[34mINFO    \u001b[0m Time to analyze 🔎 See                                                 \n",
      "         \u001b[4;94mhttps://github.com/kiran94/prfiesta/blob/main/docs/analysis.md\u001b[0m for some\n",
      "         inspiration!                                                           \n",
      "\u001b[2K\u001b[34m⠧\u001b[0m exporting to duckdb table prfiesta_20230527_190811\n",
      "\u001b[1A\u001b[2K"
     ]
    }
   ],
   "source": [
    "%%bash\n",
    "\n",
    "prfiesta -u kiran94 --after 2023-01-01 --output-type duckdb --output mydatabase.duckdb"
   ]
  },
  {
   "cell_type": "markdown",
   "id": "23ff658e-7610-40fb-8297-b3cd0ac97ce9",
   "metadata": {},
   "source": [
    "## Checking the Export\n",
    "\n",
    "Now that the data has been exported, we can open up the duckdb database with any of the [supported Client APIs](https://duckdb.org/docs/api/overview) to view and further analyze our data."
   ]
  },
  {
   "cell_type": "code",
   "execution_count": 12,
   "id": "4251000c-8a55-42bc-bf8f-f2f7222a88e1",
   "metadata": {
    "tags": []
   },
   "outputs": [],
   "source": [
    "import duckdb"
   ]
  },
  {
   "cell_type": "code",
   "execution_count": 15,
   "id": "b0c05685-d6c2-45e3-82f2-ed5ae232c161",
   "metadata": {
    "tags": []
   },
   "outputs": [],
   "source": [
    "con = duckdb.connect('mydatabase.duckdb', read_only=True)"
   ]
  },
  {
   "cell_type": "code",
   "execution_count": 16,
   "id": "57e72543-6bcd-4f60-acb1-5dae3096bee2",
   "metadata": {
    "tags": []
   },
   "outputs": [
    {
     "data": {
      "text/plain": [
       "┌──────────────────────────┐\n",
       "│           name           │\n",
       "│         varchar          │\n",
       "├──────────────────────────┤\n",
       "│ prfiesta_20230527_190811 │\n",
       "└──────────────────────────┘"
      ]
     },
     "execution_count": 16,
     "metadata": {},
     "output_type": "execute_result"
    }
   ],
   "source": [
    "con.sql('SHOW TABLES;')"
   ]
  },
  {
   "cell_type": "code",
   "execution_count": 17,
   "id": "95b5240d-788a-4b0e-85dc-2e8f13c4f14d",
   "metadata": {
    "tags": []
   },
   "outputs": [
    {
     "data": {
      "text/plain": [
       "┌────────────┬────────┬──────────────────────┬───┬──────────────────────┬──────────────────────┬──────────────────────┐\n",
       "│     id     │ number │        title         │ … │      labels_url      │     comments_url     │      events_url      │\n",
       "│   int64    │ int64  │       varchar        │   │       varchar        │       varchar        │       varchar        │\n",
       "├────────────┼────────┼──────────────────────┼───┼──────────────────────┼──────────────────────┼──────────────────────┤\n",
       "│ 1687605273 │      7 │ fix(s3): ensure s3…  │ … │ https://api.github…  │ https://api.github…  │ https://api.github…  │\n",
       "│ 1689980676 │    758 │ Add `kiran94/edit-…  │ … │ https://api.github…  │ https://api.github…  │ https://api.github…  │\n",
       "│ 1689916858 │      3 │ chore(readme): cor…  │ … │ https://api.github…  │ https://api.github…  │ https://api.github…  │\n",
       "│ 1689877246 │      2 │ fix(ci): updated p…  │ … │ https://api.github…  │ https://api.github…  │ https://api.github…  │\n",
       "│ 1689863464 │      1 │ feat(core): implem…  │ … │ https://api.github…  │ https://api.github…  │ https://api.github…  │\n",
       "│ 1687610341 │      8 │ chore(ci): update …  │ … │ https://api.github…  │ https://api.github…  │ https://api.github…  │\n",
       "│ 1619272492 │  29914 │ docs(api-gateway-u…  │ … │ https://api.github…  │ https://api.github…  │ https://api.github…  │\n",
       "├────────────┴────────┴──────────────────────┴───┴──────────────────────┴──────────────────────┴──────────────────────┤\n",
       "│ 7 rows                                                                                         93 columns (6 shown) │\n",
       "└─────────────────────────────────────────────────────────────────────────────────────────────────────────────────────┘"
      ]
     },
     "execution_count": 17,
     "metadata": {},
     "output_type": "execute_result"
    }
   ],
   "source": [
    "con.sql('SELECT * FROM prfiesta_20230527_190811')"
   ]
  },
  {
   "cell_type": "code",
   "execution_count": 20,
   "id": "a6a82558-85d9-42f6-8dee-48ecd1954632",
   "metadata": {
    "tags": []
   },
   "outputs": [
    {
     "data": {
      "text/plain": [
       "┌──────────────────────┬─────────────────────────────────────────────────────────┬─────────┬─────────┬─────────┬───────┐\n",
       "│     column_name      │                       column_type                       │  null   │   key   │ default │ extra │\n",
       "│       varchar        │                         varchar                         │ varchar │ varchar │ varchar │ int32 │\n",
       "├──────────────────────┼─────────────────────────────────────────────────────────┼─────────┼─────────┼─────────┼───────┤\n",
       "│ id                   │ BIGINT                                                  │ YES     │ NULL    │ NULL    │  NULL │\n",
       "│ number               │ BIGINT                                                  │ YES     │ NULL    │ NULL    │  NULL │\n",
       "│ title                │ VARCHAR                                                 │ YES     │ NULL    │ NULL    │  NULL │\n",
       "│ labels               │ STRUCT(id INTEGER, node_id VARCHAR, url VARCHAR, \"nam…  │ YES     │ NULL    │ NULL    │  NULL │\n",
       "│ locked               │ BOOLEAN                                                 │ YES     │ NULL    │ NULL    │  NULL │\n",
       "│ assignees            │ INTEGER[]                                               │ YES     │ NULL    │ NULL    │  NULL │\n",
       "│ milestone            │ DOUBLE                                                  │ YES     │ NULL    │ NULL    │  NULL │\n",
       "│ comments             │ BIGINT                                                  │ YES     │ NULL    │ NULL    │  NULL │\n",
       "│ created_at           │ TIMESTAMP WITH TIME ZONE                                │ YES     │ NULL    │ NULL    │  NULL │\n",
       "│ updated_at           │ TIMESTAMP WITH TIME ZONE                                │ YES     │ NULL    │ NULL    │  NULL │\n",
       "│     ·                │    ·                                                    │  ·      │  ·      │  ·      │    ·  │\n",
       "│     ·                │    ·                                                    │  ·      │  ·      │  ·      │    ·  │\n",
       "│     ·                │    ·                                                    │  ·      │  ·      │  ·      │    ·  │\n",
       "│ timeline_url         │ VARCHAR                                                 │ YES     │ NULL    │ NULL    │  NULL │\n",
       "│ labels_url           │ VARCHAR                                                 │ YES     │ NULL    │ NULL    │  NULL │\n",
       "│ comments_url         │ VARCHAR                                                 │ YES     │ NULL    │ NULL    │  NULL │\n",
       "│ events_url           │ VARCHAR                                                 │ YES     │ NULL    │ NULL    │  NULL │\n",
       "│ state                │ VARCHAR                                                 │ YES     │ NULL    │ NULL    │  NULL │\n",
       "│ reactions.url        │ VARCHAR                                                 │ YES     │ NULL    │ NULL    │  NULL │\n",
       "│ milestone.descript…  │ VARCHAR                                                 │ YES     │ NULL    │ NULL    │  NULL │\n",
       "│ milestone.creator.…  │ VARCHAR                                                 │ YES     │ NULL    │ NULL    │  NULL │\n",
       "│ repository_url       │ VARCHAR                                                 │ YES     │ NULL    │ NULL    │  NULL │\n",
       "│ assignee             │ INTEGER                                                 │ YES     │ NULL    │ NULL    │  NULL │\n",
       "├──────────────────────┴─────────────────────────────────────────────────────────┴─────────┴─────────┴─────────┴───────┤\n",
       "│ 93 rows (20 shown)                                                                                         6 columns │\n",
       "└──────────────────────────────────────────────────────────────────────────────────────────────────────────────────────┘"
      ]
     },
     "execution_count": 20,
     "metadata": {},
     "output_type": "execute_result"
    }
   ],
   "source": [
    "con.sql('DESCRIBE prfiesta_20230527_190811;')"
   ]
  },
  {
   "cell_type": "code",
   "execution_count": 21,
   "id": "97630f24-590f-4754-ab6c-e4734027a87f",
   "metadata": {
    "tags": []
   },
   "outputs": [],
   "source": [
    "con.close()"
   ]
  }
 ],
 "metadata": {
  "kernelspec": {
   "display_name": "Python 3 (ipykernel)",
   "language": "python",
   "name": "python3"
  },
  "language_info": {
   "codemirror_mode": {
    "name": "ipython",
    "version": 3
   },
   "file_extension": ".py",
   "mimetype": "text/x-python",
   "name": "python",
   "nbconvert_exporter": "python",
   "pygments_lexer": "ipython3",
   "version": "3.11.3"
  }
 },
 "nbformat": 4,
 "nbformat_minor": 5
}
