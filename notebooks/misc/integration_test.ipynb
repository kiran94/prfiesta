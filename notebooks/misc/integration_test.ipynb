{
 "cells": [
  {
   "cell_type": "markdown",
   "id": "7c7a348c-9a5a-453a-8c51-8932eeeb2dfd",
   "metadata": {
    "papermill": {
     "duration": 0.006673,
     "end_time": "2023-05-24T19:51:31.025510",
     "exception": false,
     "start_time": "2023-05-24T19:51:31.018837",
     "status": "completed"
    },
    "tags": []
   },
   "source": [
    "# Integration Test\n",
    "\n",
    "This notebook runs `prfiesta` with a known set of parameters. The result of that output is compared with an output that was previously generated with those same parameters.\n",
    "\n",
    "The two dataframes are compared to ensure that no regressions have been introduced."
   ]
  },
  {
   "cell_type": "code",
   "execution_count": 1,
   "id": "fce7359e-853d-4324-8afe-dcbbc0755ff3",
   "metadata": {
    "execution": {
     "iopub.execute_input": "2023-05-24T19:51:31.041816Z",
     "iopub.status.busy": "2023-05-24T19:51:31.041266Z",
     "iopub.status.idle": "2023-05-24T19:51:31.318087Z",
     "shell.execute_reply": "2023-05-24T19:51:31.317622Z"
    },
    "papermill": {
     "duration": 0.286274,
     "end_time": "2023-05-24T19:51:31.319371",
     "exception": false,
     "start_time": "2023-05-24T19:51:31.033097",
     "status": "completed"
    },
    "tags": []
   },
   "outputs": [],
   "source": [
    "import pandas as pd"
   ]
  },
  {
   "cell_type": "markdown",
   "id": "71f9fe5d-ac2b-42a9-9ac8-fe24950a3b2a",
   "metadata": {
    "papermill": {
     "duration": 0.001381,
     "end_time": "2023-05-24T19:51:31.322295",
     "exception": false,
     "start_time": "2023-05-24T19:51:31.320914",
     "status": "completed"
    },
    "tags": []
   },
   "source": [
    "### Generate a Fresh Export"
   ]
  },
  {
   "cell_type": "code",
   "execution_count": 2,
   "id": "0f129ef0-7682-41b5-9630-8bb91985caa1",
   "metadata": {
    "execution": {
     "iopub.execute_input": "2023-05-24T19:51:31.327134Z",
     "iopub.status.busy": "2023-05-24T19:51:31.326730Z",
     "iopub.status.idle": "2023-05-24T19:51:32.435589Z",
     "shell.execute_reply": "2023-05-24T19:51:32.435123Z"
    },
    "papermill": {
     "duration": 1.113253,
     "end_time": "2023-05-24T19:51:32.437005",
     "exception": false,
     "start_time": "2023-05-24T19:51:31.323752",
     "status": "completed"
    },
    "tags": []
   },
   "outputs": [
    {
     "name": "stdout",
     "output_type": "stream",
     "text": [
      "\u001b[34mINFO    \u001b[0m \u001b[1;32mPR Fiesta 🦜🥳\u001b[0m                                                         \n"
     ]
    },
    {
     "name": "stdout",
     "output_type": "stream",
     "text": [
      "\u001b[?25l⠋ \u001b[34mLoading\u001b[0m\r",
      "\u001b[2K\u001b[34m⠋\u001b[0m Searching https://api.github.com with\u001b[1;34m type:pr author:kiran94 \u001b[0m\n"
     ]
    },
    {
     "name": "stdout",
     "output_type": "stream",
     "text": [
      "\u001b[1;34mcreated:2023-04-01..2023-04-30\u001b[0m\r",
      "\u001b[2K\u001b[1A\u001b[2K\u001b[34m⠙\u001b[0m Searching https://api.github.com with\u001b[1;34m type:pr author:kiran94 \u001b[0m\n"
     ]
    },
    {
     "name": "stdout",
     "output_type": "stream",
     "text": [
      "\u001b[1;34mcreated:2023-04-01..2023-04-30\u001b[0m\r",
      "\u001b[2K\u001b[1A\u001b[2K\u001b[34m⠙\u001b[0m Searching https://api.github.com with\u001b[1;34m type:pr author:kiran94 \u001b[0m\n"
     ]
    },
    {
     "name": "stdout",
     "output_type": "stream",
     "text": [
      "\u001b[1;34mcreated:2023-04-01..2023-04-30\u001b[0m\r",
      "\u001b[2K\u001b[1A\u001b[2K\u001b[34m⠹\u001b[0m Searching https://api.github.com with\u001b[1;34m type:pr author:kiran94 \u001b[0m\n"
     ]
    },
    {
     "name": "stdout",
     "output_type": "stream",
     "text": [
      "\u001b[1;34mcreated:2023-04-01..2023-04-30\u001b[0m\r",
      "\u001b[2K\u001b[1A\u001b[2K\u001b[34m⠸\u001b[0m Searching https://api.github.com with\u001b[1;34m type:pr author:kiran94 \u001b[0m\n"
     ]
    },
    {
     "name": "stdout",
     "output_type": "stream",
     "text": [
      "\u001b[1;34mcreated:2023-04-01..2023-04-30\u001b[0m\r",
      "\u001b[2K\u001b[1A\u001b[2K\u001b[34m⠸\u001b[0m Searching https://api.github.com with\u001b[1;34m type:pr author:kiran94 \u001b[0m\n"
     ]
    },
    {
     "name": "stdout",
     "output_type": "stream",
     "text": [
      "\u001b[1;34mcreated:2023-04-01..2023-04-30\u001b[0m\r",
      "\u001b[2K\u001b[1A\u001b[2K\u001b[34m⠼\u001b[0m Searching https://api.github.com with\u001b[1;34m type:pr author:kiran94 \u001b[0m\n"
     ]
    },
    {
     "name": "stdout",
     "output_type": "stream",
     "text": [
      "\u001b[1;34mcreated:2023-04-01..2023-04-30\u001b[0m\r",
      "\u001b[2K\u001b[1A\u001b[2K\u001b[34m⠴\u001b[0m Searching https://api.github.com with\u001b[1;34m type:pr author:kiran94 \u001b[0m\n"
     ]
    },
    {
     "name": "stdout",
     "output_type": "stream",
     "text": [
      "\u001b[1;34mcreated:2023-04-01..2023-04-30\u001b[0m\r",
      "\u001b[2K\u001b[1A\u001b[2K\u001b[34m⠴\u001b[0m Searching https://api.github.com with\u001b[1;34m type:pr author:kiran94 \u001b[0m\n"
     ]
    },
    {
     "name": "stdout",
     "output_type": "stream",
     "text": [
      "\u001b[1;34mcreated:2023-04-01..2023-04-30\u001b[0m\r",
      "\u001b[2K\u001b[1A\u001b[2K\u001b[34m⠦\u001b[0m Searching https://api.github.com with\u001b[1;34m type:pr author:kiran94 \u001b[0m\n"
     ]
    },
    {
     "name": "stdout",
     "output_type": "stream",
     "text": [
      "\u001b[1;34mcreated:2023-04-01..2023-04-30\u001b[0m\r",
      "\u001b[2K\u001b[1A\u001b[2K\u001b[34mINFO    \u001b[0m Found \u001b[1;36m6\u001b[0m pull requests!                                                 \n"
     ]
    },
    {
     "name": "stdout",
     "output_type": "stream",
     "text": [
      "\u001b[34m⠧\u001b[0m Post Processing\r",
      "\u001b[2K\u001b[34mINFO    \u001b[0m Exported to ..\u001b[35m/samples_data/\u001b[0m\u001b[95mintegration_test_new.csv\u001b[0m!                  \n"
     ]
    },
    {
     "name": "stdout",
     "output_type": "stream",
     "text": [
      "\u001b[34m⠧\u001b[0m Writing export to ../samples_data/integration_test_new.csv\r",
      "\u001b[2K\u001b[34mINFO    \u001b[0m Time to analyze 🔎 See                                                 \n"
     ]
    },
    {
     "name": "stdout",
     "output_type": "stream",
     "text": [
      "         \u001b[4;94mhttps://github.com/kiran94/prfiesta/blob/main/docs/analysis.md\u001b[0m for some\n"
     ]
    },
    {
     "name": "stdout",
     "output_type": "stream",
     "text": [
      "         inspiration!                                                           \n"
     ]
    },
    {
     "name": "stdout",
     "output_type": "stream",
     "text": [
      "\u001b[34m⠧\u001b[0m Writing export to ../samples_data/integration_test_new.csv\r",
      "\u001b[2K\u001b[34m⠧\u001b[0m Writing export to ../samples_data/integration_test_new.csv\n"
     ]
    },
    {
     "name": "stdout",
     "output_type": "stream",
     "text": [
      "\u001b[?25h\r",
      "\u001b[1A\u001b[2K"
     ]
    }
   ],
   "source": [
    "%%bash\n",
    "\n",
    "prfiesta -u kiran94 --after \"2023-04-01\" --before \"2023-04-30\" --output \"../samples_data/integration_test_new.csv\""
   ]
  },
  {
   "cell_type": "markdown",
   "id": "f14f206c-1fc4-4cfb-960d-603193e33acf",
   "metadata": {
    "papermill": {
     "duration": 0.007023,
     "end_time": "2023-05-24T19:51:32.446931",
     "exception": false,
     "start_time": "2023-05-24T19:51:32.439908",
     "status": "completed"
    },
    "tags": []
   },
   "source": [
    "### Load the Exports"
   ]
  },
  {
   "cell_type": "code",
   "execution_count": 3,
   "id": "2d1d478e-de12-465f-9da4-e9d591cbaf24",
   "metadata": {
    "execution": {
     "iopub.execute_input": "2023-05-24T19:51:32.453306Z",
     "iopub.status.busy": "2023-05-24T19:51:32.453096Z",
     "iopub.status.idle": "2023-05-24T19:51:32.464660Z",
     "shell.execute_reply": "2023-05-24T19:51:32.464076Z"
    },
    "papermill": {
     "duration": 0.016305,
     "end_time": "2023-05-24T19:51:32.465897",
     "exception": false,
     "start_time": "2023-05-24T19:51:32.449592",
     "status": "completed"
    },
    "tags": []
   },
   "outputs": [],
   "source": [
    "expected = pd.read_csv('../samples_data/integration_test_sample.csv')\n",
    "actual = pd.read_csv('../samples_data/integration_test_new.csv')"
   ]
  },
  {
   "cell_type": "markdown",
   "id": "d3afe9fc-87b8-4b06-8095-5a0e0e4c2d82",
   "metadata": {
    "papermill": {
     "duration": 0.002439,
     "end_time": "2023-05-24T19:51:32.470827",
     "exception": false,
     "start_time": "2023-05-24T19:51:32.468388",
     "status": "completed"
    },
    "tags": []
   },
   "source": [
    "### Compare"
   ]
  },
  {
   "cell_type": "code",
   "execution_count": 4,
   "id": "da7485a4-f02e-4cd4-b2f9-1221e9ffa3c8",
   "metadata": {
    "execution": {
     "iopub.execute_input": "2023-05-24T19:51:32.476777Z",
     "iopub.status.busy": "2023-05-24T19:51:32.476257Z",
     "iopub.status.idle": "2023-05-24T19:51:32.484871Z",
     "shell.execute_reply": "2023-05-24T19:51:32.484320Z"
    },
    "papermill": {
     "duration": 0.01291,
     "end_time": "2023-05-24T19:51:32.486127",
     "exception": false,
     "start_time": "2023-05-24T19:51:32.473217",
     "status": "completed"
    },
    "tags": []
   },
   "outputs": [],
   "source": [
    "pd.testing.assert_frame_equal(expected, actual)"
   ]
  },
  {
   "cell_type": "markdown",
   "id": "5f10fd2f-08c1-4e4b-9e41-aa9b1773bbde",
   "metadata": {
    "papermill": {
     "duration": 0.002356,
     "end_time": "2023-05-24T19:51:32.490916",
     "exception": false,
     "start_time": "2023-05-24T19:51:32.488560",
     "status": "completed"
    },
    "tags": []
   },
   "source": [
    "### Cleanup"
   ]
  },
  {
   "cell_type": "code",
   "execution_count": 5,
   "id": "3dab97b1-09dd-4352-a461-d646aec62fd4",
   "metadata": {
    "execution": {
     "iopub.execute_input": "2023-05-24T19:51:32.496835Z",
     "iopub.status.busy": "2023-05-24T19:51:32.496229Z",
     "iopub.status.idle": "2023-05-24T19:51:32.508436Z",
     "shell.execute_reply": "2023-05-24T19:51:32.507975Z"
    },
    "papermill": {
     "duration": 0.016482,
     "end_time": "2023-05-24T19:51:32.509792",
     "exception": false,
     "start_time": "2023-05-24T19:51:32.493310",
     "status": "completed"
    },
    "tags": []
   },
   "outputs": [],
   "source": [
    "%%bash \n",
    "\n",
    "rm ../samples_data/integration_test_new.csv"
   ]
  }
 ],
 "metadata": {
  "kernelspec": {
   "display_name": "Python 3 (ipykernel)",
   "language": "python",
   "name": "python3"
  },
  "language_info": {
   "codemirror_mode": {
    "name": "ipython",
    "version": 3
   },
   "file_extension": ".py",
   "mimetype": "text/x-python",
   "name": "python",
   "nbconvert_exporter": "python",
   "pygments_lexer": "ipython3",
   "version": "3.11.3"
  },
  "papermill": {
   "default_parameters": {},
   "duration": 2.762309,
   "end_time": "2023-05-24T19:51:32.727917",
   "environment_variables": {},
   "exception": null,
   "input_path": "./notebooks/misc/integration_test.ipynb",
   "output_path": "./notebooks/misc/integration_test.ipynb",
   "parameters": {},
   "start_time": "2023-05-24T19:51:29.965608",
   "version": "2.4.0"
  }
 },
 "nbformat": 4,
 "nbformat_minor": 5
}