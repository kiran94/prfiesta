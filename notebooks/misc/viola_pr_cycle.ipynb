{
 "cells": [
  {
   "cell_type": "markdown",
   "id": "598f4e8c-a727-43e5-9054-3e5ef08507e8",
   "metadata": {},
   "source": [
    "# PR Cycle\n",
    "\n",
    "Enter the reference you would like to add (e.g `JIRA-123`)"
   ]
  },
  {
   "cell_type": "code",
   "execution_count": 1,
   "id": "96a11b33-13f8-4ea8-aa67-fee0296c22e3",
   "metadata": {
    "tags": []
   },
   "outputs": [],
   "source": [
    "from datetime import date, datetime, timedelta\n",
    "import logging\n",
    "from functools import cache\n",
    "from IPython.display import HTML\n",
    "\n",
    "import pandas as pd\n",
    "import ipywidgets as widgets\n",
    "import plotly.express as px\n",
    "\n",
    "from prfiesta.collectors.github import GitHubCollector\n",
    "from prfiesta.analysis.view import view_pr_cycle, _enrich_pr_link\n",
    "\n",
    "logging.basicConfig(format=logging.BASIC_FORMAT, level=logging.INFO)\n",
    "logger = logging.getLogger()"
   ]
  },
  {
   "cell_type": "code",
   "execution_count": 2,
   "id": "5ad4cef5-1541-47d6-bf15-b534df19b441",
   "metadata": {},
   "outputs": [],
   "source": [
    "@cache\n",
    "def create_collector() -> GitHubCollector:\n",
    "    return GitHubCollector()\n",
    "\n",
    "def collect_dummy_reference(reference: str):\n",
    "    logger.warning(\"USING DUMMY DATA\")\n",
    "\n",
    "    df = pd.DataFrame(\n",
    "        data={\n",
    "            \"number\": range(5), \n",
    "            \"title\": [\n",
    "                \"Add feature X\",\n",
    "                \"Fix bug in Y\",\n",
    "                \"Refactor Z component\",\n",
    "                \"Improve performance in A\",\n",
    "                \"Update documentation for B\",\n",
    "            ],\n",
    "            \"repository_name\": [\"repository\"] * 5,\n",
    "            \"html_url\": [\"url\" + str(i) for i in range(1, 6)],\n",
    "            \"created_at\": [\n",
    "                datetime(2023, 1, 1, 24 % (i+1), 0, 0) + timedelta(hours=i*1) for i in range(5)\n",
    "            ],\n",
    "            \"pull_request.merged_at\": [\n",
    "                datetime(2023, 1, 3, i, 0, 0) + timedelta(hours=i*3) for i in range(5)\n",
    "            ],\n",
    "        }\n",
    "    )\n",
    "    df[\"cycle_time\"] = df[\"pull_request.merged_at\"] - df[\"created_at\"]\n",
    "    df[\"cycle_time_mins\"] = df[\"cycle_time\"].dt.total_seconds() / 60\n",
    "    df[\"cycle_time_hours\"] = df[\"cycle_time_mins\"] / 60\n",
    "    df['reference'] = reference\n",
    "    \n",
    "    return df\n",
    "\n",
    "@cache\n",
    "def collect_reference(reference: str, dummy: bool) -> pd.DataFrame:\n",
    "    logger.info('collecting %s', reference)\n",
    "    \n",
    "    if dummy:\n",
    "        df = collect_dummy_reference(reference)\n",
    "    else:\n",
    "        collector = create_collector()\n",
    "        df = collector.collect(reference=reference)\n",
    "        df = view_pr_cycle(df, as_frame=True)\n",
    "        \n",
    "    return df"
   ]
  },
  {
   "cell_type": "code",
   "execution_count": 3,
   "id": "d1ef85ed-f12f-49c5-9f0c-ec087a6943a1",
   "metadata": {
    "tags": []
   },
   "outputs": [],
   "source": [
    "## STATE\n",
    "\n",
    "current_references: set = set()\n",
    "current_results: list[pd.DataFrame] = []\n",
    "all_results: pd.DataFrame = pd.DataFrame()\n",
    "\n",
    "def clear_state():\n",
    "    current_references.clear()\n",
    "    current_results.clear()\n",
    "    all_results = pd.DataFrame()"
   ]
  },
  {
   "cell_type": "code",
   "execution_count": 4,
   "id": "1487f313-0bb4-4aac-b0a9-0204a6c6dee0",
   "metadata": {
    "tags": []
   },
   "outputs": [],
   "source": [
    "## OUTPUTS\n",
    "\n",
    "control_output = widgets.Output()\n",
    "result_frame_output = widgets.Output()\n",
    "statistics_output = widgets.Output()\n",
    "gantt_chart_output = widgets.Output()\n",
    "\n",
    "def clear_ui_state():\n",
    "    control_output.clear_output()\n",
    "    result_frame_output.clear_output()\n",
    "    statistics_output.clear_output()\n",
    "    gantt_chart_output.clear_output()"
   ]
  },
  {
   "cell_type": "code",
   "execution_count": 5,
   "id": "854488c6-7d59-45c5-9910-bf4a37f2f680",
   "metadata": {
    "tags": []
   },
   "outputs": [],
   "source": [
    "## UI ELEMENTS\n",
    "\n",
    "text_input = widgets.Text(placeholder='e.g JIRA-123', description='Reference:', value='PRFIESTA-123')\n",
    "\n",
    "add_button = widgets.Button(description='Add', button_style='success')\n",
    "clear_button = widgets.Button(description='Clear', button_style='danger')\n",
    "sample_button = widgets.Button(description='Sample', button_style='info')\n",
    "\n",
    "style = \"\"\"\n",
    "    <style>\n",
    "    .stats-header {\n",
    "        color: white;\n",
    "        background-color: teal;\n",
    "        border-radius: 2px;\n",
    "        text-align: center;\n",
    "    }\n",
    "\n",
    "    .stats-value {\n",
    "        font-size: 200%;\n",
    "        display: block;\n",
    "        text-align: center;\n",
    "    }\n",
    "    </style>\n",
    "    \"\"\""
   ]
  },
  {
   "cell_type": "code",
   "execution_count": 6,
   "id": "14fc0e17-83b6-4483-9936-23e21027b5f5",
   "metadata": {
    "tags": []
   },
   "outputs": [
    {
     "data": {
      "application/vnd.jupyter.widget-view+json": {
       "model_id": "ace11a95902443989859fb9c68c6f425",
       "version_major": 2,
       "version_minor": 0
      },
      "text/plain": [
       "HTML(value='\\n    <style>\\n    .stats-header {\\n        color: white;\\n        background-color: teal;\\n      …"
      ]
     },
     "metadata": {},
     "output_type": "display_data"
    },
    {
     "data": {
      "application/vnd.jupyter.widget-view+json": {
       "model_id": "a39e75acef0d4935827bba660d7ba37b",
       "version_major": 2,
       "version_minor": 0
      },
      "text/plain": [
       "HBox(children=(Text(value='PRFIESTA-123', description='Reference:', placeholder='e.g JIRA-123'), Button(button…"
      ]
     },
     "metadata": {},
     "output_type": "display_data"
    },
    {
     "data": {
      "application/vnd.jupyter.widget-view+json": {
       "model_id": "fb48885c0b5c46f68380184d7346915e",
       "version_major": 2,
       "version_minor": 0
      },
      "text/plain": [
       "Output()"
      ]
     },
     "metadata": {},
     "output_type": "display_data"
    },
    {
     "data": {
      "application/vnd.jupyter.widget-view+json": {
       "model_id": "7c04ae7e15e34012a979f6de099c77da",
       "version_major": 2,
       "version_minor": 0
      },
      "text/plain": [
       "AppLayout(children=(Output(layout=Layout(grid_area='header')), Output(layout=Layout(grid_area='right-sidebar')…"
      ]
     },
     "metadata": {},
     "output_type": "display_data"
    }
   ],
   "source": [
    "def create_statistics_block(header: str, data: str, stats_header_css_class='stats-header', stats_value_css_class='stats-value'):\n",
    "    return widgets.HTML(f'''\n",
    "        <h2 class=\"{stats_header_css_class}\">{header}</h2>\n",
    "        <span class=\"{stats_value_css_class}\">{data}</span>\n",
    "    ''')\n",
    "\n",
    "def add_reference(b, dummy: bool = False):\n",
    "    if not text_input.value:\n",
    "        return\n",
    "    \n",
    "    value = str.strip(text_input.value)\n",
    "    current_references.add(value)\n",
    "        \n",
    "    df = collect_reference(value, dummy=dummy)\n",
    "    current_results.append(df)\n",
    "    all_results = pd.concat(current_results)\n",
    "    \n",
    "    clear_ui_state()\n",
    "        \n",
    "    with control_output:\n",
    "        display(widgets.TagsInput(value=list(current_references), read_only=True))\n",
    "        \n",
    "    with result_frame_output:\n",
    "        temp = _enrich_pr_link(all_results.set_index(['repository_name', 'number']))\n",
    "        display(HTML(temp.to_html(escape=False, index=False)))\n",
    "        \n",
    "    with statistics_output:\n",
    "        \n",
    "        earliest_pr_create_time = all_results['created_at'].min().date()\n",
    "        latest_merged_at = all_results['pull_request.merged_at'].max().date()\n",
    "        average_cycle_time_hours = all_results['cycle_time_hours'].mean() \n",
    "\n",
    "        earliest_pr_create_view = create_statistics_block(\"Earliest PR Create Time\", earliest_pr_create_time)\n",
    "        latest_merged_at_view = create_statistics_block(\"Latest Merged At\", latest_merged_at)\n",
    "        average_cycle_time_hours_views = create_statistics_block(\"Average Cycle Time (Hours)\", average_cycle_time_hours)\n",
    "\n",
    "        component = widgets.TwoByTwoLayout(\n",
    "            top_left=earliest_pr_create_view,\n",
    "            bottom_left=latest_merged_at_view,\n",
    "            bottom_right=average_cycle_time_hours_views\n",
    "        )\n",
    "        \n",
    "        display(component)\n",
    "        \n",
    "    with gantt_chart_output:\n",
    "        fig = px.timeline(df, x_start=\"created_at\", x_end=\"pull_request.merged_at\", y=\"title\", )\n",
    "        fig.update_yaxes(autorange=\"reversed\") # otherwise tasks are listed from the bottom up\n",
    "        fig.show()\n",
    "        \n",
    "def clear_references(b):\n",
    "    if not current_references:\n",
    "        return\n",
    "    \n",
    "    clear_ui_state()\n",
    "    clear_state()\n",
    "    \n",
    "    add_button.disabled = False\n",
    "    sample_button.disabled = False\n",
    "    \n",
    "def add_sample(b):\n",
    "    add_reference(b, dummy=True)\n",
    "    add_button.disabled = True\n",
    "        \n",
    "add_button.on_click(add_reference)\n",
    "clear_button.on_click(clear_references)\n",
    "sample_button.on_click(add_sample)\n",
    "\n",
    "display(\n",
    "    widgets.HTML(style),\n",
    "    widgets.HBox([text_input, add_button, clear_button, sample_button]),\n",
    "    control_output,\n",
    "    widgets.AppLayout(\n",
    "        header=gantt_chart_output,\n",
    "        left_sidebar=None,\n",
    "        center=result_frame_output,\n",
    "        right_sidebar=statistics_output,\n",
    "        footer=None\n",
    "    )\n",
    ")"
   ]
  }
 ],
 "metadata": {
  "kernelspec": {
   "display_name": "Python 3 (ipykernel)",
   "language": "python",
   "name": "python3"
  },
  "language_info": {
   "codemirror_mode": {
    "name": "ipython",
    "version": 3
   },
   "file_extension": ".py",
   "mimetype": "text/x-python",
   "name": "python",
   "nbconvert_exporter": "python",
   "pygments_lexer": "ipython3",
   "version": "3.11.7"
  }
 },
 "nbformat": 4,
 "nbformat_minor": 5
}
