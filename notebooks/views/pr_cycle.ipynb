{
 "cells": [
  {
   "cell_type": "markdown",
   "id": "4fcb206b-e621-4558-a964-bc62ec43451e",
   "metadata": {},
   "source": [
    "# PR Cycle\n",
    "\n",
    "Displays the difference between when PRs were opened to when they were merged in relation to a reference (JIRA card)"
   ]
  },
  {
   "cell_type": "code",
   "execution_count": 1,
   "id": "5c0fcb07-31a6-4a23-bea2-912a65fe1bb3",
   "metadata": {
    "tags": []
   },
   "outputs": [],
   "source": [
    "import pandas as pd\n",
    "\n",
    "from prfiesta.collectors.github import GitHubCollector\n",
    "from prfiesta.analysis.view import view_pr_cycle"
   ]
  },
  {
   "cell_type": "code",
   "execution_count": 2,
   "id": "2737d7a8-3b29-4eac-821a-a4231a9d0fc9",
   "metadata": {
    "tags": []
   },
   "outputs": [],
   "source": [
    "frame: pd.DataFrame = GitHubCollector().collect(reference='PRFIESTA-123')"
   ]
  },
  {
   "cell_type": "code",
   "execution_count": 7,
   "id": "62e8d370-6281-4a34-b381-3ada72cb5b7f",
   "metadata": {
    "tags": []
   },
   "outputs": [
    {
     "data": {
      "text/html": [
       "<table border=\"1\" class=\"dataframe\">\n",
       "  <thead>\n",
       "    <tr style=\"text-align: right;\">\n",
       "      <th>number</th>\n",
       "      <th>title</th>\n",
       "      <th>repository_name</th>\n",
       "      <th>created_at</th>\n",
       "      <th>pull_request.merged_at</th>\n",
       "      <th>cycle_time</th>\n",
       "      <th>cycle_time_mins</th>\n",
       "      <th>cycle_time_hours</th>\n",
       "    </tr>\n",
       "  </thead>\n",
       "  <tbody>\n",
       "    <tr>\n",
       "      <td>58</td>\n",
       "      <td><a href=\"https://github.com/kiran94/prfiesta/pull/58\">feat(main): implement reference search</a></td>\n",
       "      <td>kiran94/prfiesta</td>\n",
       "      <td>2024-01-26 08:29:35+00:00</td>\n",
       "      <td>2024-01-26 19:30:13+00:00</td>\n",
       "      <td>0 days 11:00:38</td>\n",
       "      <td>660.633333</td>\n",
       "      <td>11.010556</td>\n",
       "    </tr>\n",
       "    <tr>\n",
       "      <td>22</td>\n",
       "      <td><a href=\"https://github.com/kiran94/prfiesta/pull/22\">refactor(collector): gracefully handle github rate limits</a></td>\n",
       "      <td>kiran94/prfiesta</td>\n",
       "      <td>2023-05-20 13:35:34+00:00</td>\n",
       "      <td>2023-05-20 13:46:27+00:00</td>\n",
       "      <td>0 days 00:10:53</td>\n",
       "      <td>10.883333</td>\n",
       "      <td>0.181389</td>\n",
       "    </tr>\n",
       "    <tr>\n",
       "      <td>4</td>\n",
       "      <td><a href=\"https://github.com/kiran94/prfiesta/pull/4\">feat(output): allow output file override</a></td>\n",
       "      <td>kiran94/prfiesta</td>\n",
       "      <td>2023-05-05 18:25:36+00:00</td>\n",
       "      <td>2023-05-05 18:29:07+00:00</td>\n",
       "      <td>0 days 00:03:31</td>\n",
       "      <td>3.516667</td>\n",
       "      <td>0.058611</td>\n",
       "    </tr>\n",
       "    <tr>\n",
       "      <td>1</td>\n",
       "      <td><a href=\"https://github.com/kiran94/prfiesta/pull/1\">chore(github): add repository</a></td>\n",
       "      <td>kiran94/prfiesta</td>\n",
       "      <td>2023-05-04 19:12:22+00:00</td>\n",
       "      <td>2023-05-04 19:30:41+00:00</td>\n",
       "      <td>0 days 00:18:19</td>\n",
       "      <td>18.316667</td>\n",
       "      <td>0.305278</td>\n",
       "    </tr>\n",
       "  </tbody>\n",
       "</table>"
      ],
      "text/plain": [
       "<IPython.core.display.HTML object>"
      ]
     },
     "execution_count": 7,
     "metadata": {},
     "output_type": "execute_result"
    }
   ],
   "source": [
    "pr_cycle_time_frame = view_pr_cycle(frame)\n",
    "\n",
    "pr_cycle_time_frame"
   ]
  }
 ],
 "metadata": {
  "kernelspec": {
   "display_name": "Python 3 (ipykernel)",
   "language": "python",
   "name": "python3"
  },
  "language_info": {
   "codemirror_mode": {
    "name": "ipython",
    "version": 3
   },
   "file_extension": ".py",
   "mimetype": "text/x-python",
   "name": "python",
   "nbconvert_exporter": "python",
   "pygments_lexer": "ipython3",
   "version": "3.11.7"
  }
 },
 "nbformat": 4,
 "nbformat_minor": 5
}
